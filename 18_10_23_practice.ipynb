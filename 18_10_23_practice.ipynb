{
  "nbformat": 4,
  "nbformat_minor": 0,
  "metadata": {
    "colab": {
      "provenance": [],
      "authorship_tag": "ABX9TyOiisy7w5lXnSX29Px+A4Jj",
      "include_colab_link": true
    },
    "kernelspec": {
      "name": "python3",
      "display_name": "Python 3"
    },
    "language_info": {
      "name": "python"
    }
  },
  "cells": [
    {
      "cell_type": "markdown",
      "metadata": {
        "id": "view-in-github",
        "colab_type": "text"
      },
      "source": [
        "<a href=\"https://colab.research.google.com/github/Aswini-202/python_programs_practice/blob/master/18_10_23_practice.ipynb\" target=\"_parent\"><img src=\"https://colab.research.google.com/assets/colab-badge.svg\" alt=\"Open In Colab\"/></a>"
      ]
    },
    {
      "cell_type": "code",
      "source": [
        "  a = int(input())\n",
        "  if a > 0:\n",
        "    print(\"The number is positive\")\n",
        "  elif a < 0:\n",
        "    print(\"The number is negative\")\n",
        "  else:\n",
        "    print(\"The number is zero\")"
      ],
      "metadata": {
        "id": "1WBWmGhJ_y1g",
        "colab": {
          "base_uri": "https://localhost:8080/"
        },
        "outputId": "91e29e79-8b0b-4941-d864-3a49d9a16ae7"
      },
      "execution_count": 4,
      "outputs": [
        {
          "output_type": "stream",
          "name": "stdout",
          "text": [
            "10\n",
            "The number is positive\n"
          ]
        }
      ]
    },
    {
      "cell_type": "code",
      "execution_count": 5,
      "metadata": {
        "colab": {
          "base_uri": "https://localhost:8080/"
        },
        "id": "8WQjzMhxpiXl",
        "outputId": "94fed1ba-1c31-42e6-8388-6903d90e353a"
      },
      "outputs": [
        {
          "output_type": "stream",
          "name": "stdout",
          "text": [
            "5\n",
            "6\n",
            "11\n"
          ]
        }
      ],
      "source": [
        "a = int(input())\n",
        "b = int(input())\n",
        "print(a+b)"
      ]
    },
    {
      "cell_type": "code",
      "source": [
        "a = int(input())\n",
        "b = int(input())\n",
        "if a>b:\n",
        " print(a)\n",
        "else:\n",
        " print(b)"
      ],
      "metadata": {
        "colab": {
          "base_uri": "https://localhost:8080/"
        },
        "id": "ep1eSNAFEZj1",
        "outputId": "6a1bec12-4dec-4e08-9ce0-71402ee3c2ff"
      },
      "execution_count": 7,
      "outputs": [
        {
          "output_type": "stream",
          "name": "stdout",
          "text": [
            "30\n",
            "50\n",
            "50\n"
          ]
        }
      ]
    },
    {
      "cell_type": "code",
      "source": [
        "a = int(input())\n",
        "b = int(input())\n",
        "c = int(input())\n",
        "if a>b and a>c:\n",
        " print(a)\n",
        "elif b>a and b>c:\n",
        "  print(b)\n",
        "else:\n",
        " print(c)"
      ],
      "metadata": {
        "colab": {
          "base_uri": "https://localhost:8080/"
        },
        "id": "lMT-qfEGFidI",
        "outputId": "77ff2280-aa98-4fad-b586-5689fa0e8e32"
      },
      "execution_count": 9,
      "outputs": [
        {
          "output_type": "stream",
          "name": "stdout",
          "text": [
            "50\n",
            "20\n",
            "10\n",
            "50\n"
          ]
        }
      ]
    },
    {
      "cell_type": "code",
      "source": [
        "number = int(input())\n",
        "factorial = 1\n",
        "for i in range(1, number + 1):\n",
        " factorial *= i\n",
        "print(factorial)"
      ],
      "metadata": {
        "colab": {
          "base_uri": "https://localhost:8080/"
        },
        "id": "yXryVTdeGZVE",
        "outputId": "99675011-3616-464b-ccbb-7f4096343175"
      },
      "execution_count": 16,
      "outputs": [
        {
          "output_type": "stream",
          "name": "stdout",
          "text": [
            "3\n",
            "6\n"
          ]
        }
      ]
    }
  ]
}